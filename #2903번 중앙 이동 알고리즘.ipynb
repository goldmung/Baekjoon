{
 "cells": [
  {
   "cell_type": "code",
   "execution_count": null,
   "id": "f91d8ccc",
   "metadata": {},
   "outputs": [],
   "source": [
    "num = int(input())\n",
    "\n",
    "temp = 0\n",
    "cnt = 1\n",
    "\n",
    "if num < 1000000:\n",
    "    while cnt >0 :\n",
    "        min = temp*6 + 2\n",
    "        max = (temp+cnt)*6 +1\n",
    "        if (num >= min and num <=max) :\n",
    "            print(cnt+1)\n",
    "            break;\n",
    "        else:\n",
    "            temp = temp +cnt\n",
    "            cnt = cnt+1\n",
    "        \n",
    "else :\n",
    "    cnt = 578\n",
    "    while cnt >0 :\n",
    "        min = temp*6 + 2\n",
    "        max = (temp+cnt)*6 +1\n",
    "        if (num >= min and num <=max) :\n",
    "            print(cnt+1)\n",
    "            break;\n",
    "        else:\n",
    "            temp = temp +cnt\n",
    "            cnt = cnt+1"
   ]
  },
  {
   "cell_type": "code",
   "execution_count": 6,
   "id": "c756c2fe",
   "metadata": {},
   "outputs": [
    {
     "name": "stdout",
     "output_type": "stream",
     "text": [
      "1000000\n",
      "578\n"
     ]
    }
   ],
   "source": [
    "num = int(input())\n",
    "\n",
    "temp = 0\n",
    "cnt = 1\n",
    "\n",
    "while cnt < 200 :\n",
    "    min = temp*6 + 2\n",
    "    max = (temp+cnt)*6 +1\n",
    "    if (num >= min and num <=max) :\n",
    "        print(cnt+1)\n",
    "        break;\n",
    "    else:\n",
    "        temp = temp +cnt\n",
    "        cnt = cnt+1\n",
    "        \n",
    "cnt = 200        \n",
    "while cnt >=200 :\n",
    "    min = temp*6 + 2\n",
    "    max = (temp+cnt)*6 +1\n",
    "    if (num >= min and num <=max) :\n",
    "        print(cnt+1)\n",
    "        break;\n",
    "    else:\n",
    "        temp = temp +cnt\n",
    "        cnt = cnt+1"
   ]
  },
  {
   "cell_type": "code",
   "execution_count": null,
   "id": "5463cc76",
   "metadata": {},
   "outputs": [],
   "source": []
  }
 ],
 "metadata": {
  "kernelspec": {
   "display_name": "Python 3 (ipykernel)",
   "language": "python",
   "name": "python3"
  },
  "language_info": {
   "codemirror_mode": {
    "name": "ipython",
    "version": 3
   },
   "file_extension": ".py",
   "mimetype": "text/x-python",
   "name": "python",
   "nbconvert_exporter": "python",
   "pygments_lexer": "ipython3",
   "version": "3.11.4"
  }
 },
 "nbformat": 4,
 "nbformat_minor": 5
}
