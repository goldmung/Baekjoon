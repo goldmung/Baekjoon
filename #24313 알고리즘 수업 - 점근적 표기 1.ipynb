{
 "cells": [
  {
   "cell_type": "code",
   "execution_count": null,
   "id": "c60ad378",
   "metadata": {},
   "outputs": [],
   "source": [
    "#O-표기법(빅-오)\n",
    "#O(g(n))={f(n)| 모든 n >= n0에 대해 f(n) <= c * g(n)인 야의 상수 c와 n0가 존재}\n",
    "# f(n) = a1n + a0"
   ]
  },
  {
   "cell_type": "code",
   "execution_count": 25,
   "id": "8f872c1b",
   "metadata": {},
   "outputs": [
    {
     "name": "stdout",
     "output_type": "stream",
     "text": [
      "7 7\n",
      "8\n",
      "10\n",
      "1\n"
     ]
    }
   ],
   "source": [
    "a1, a0 = map(int, input().split())\n",
    "c = int(input())\n",
    "n= int(input())\n",
    "\n",
    "def first():\n",
    "    return a1*n + a0;\n",
    "\n",
    "def second():\n",
    "    return n;\n",
    "\n",
    "if first() <= c*second() :\n",
    "    print(1)\n",
    "else:\n",
    "    print(0)"
   ]
  },
  {
   "cell_type": "code",
   "execution_count": null,
   "id": "8cbdcac2",
   "metadata": {},
   "outputs": [],
   "source": []
  },
  {
   "cell_type": "code",
   "execution_count": null,
   "id": "67a3d1ad",
   "metadata": {},
   "outputs": [],
   "source": []
  }
 ],
 "metadata": {
  "kernelspec": {
   "display_name": "Python 3 (ipykernel)",
   "language": "python",
   "name": "python3"
  },
  "language_info": {
   "codemirror_mode": {
    "name": "ipython",
    "version": 3
   },
   "file_extension": ".py",
   "mimetype": "text/x-python",
   "name": "python",
   "nbconvert_exporter": "python",
   "pygments_lexer": "ipython3",
   "version": "3.11.4"
  }
 },
 "nbformat": 4,
 "nbformat_minor": 5
}
