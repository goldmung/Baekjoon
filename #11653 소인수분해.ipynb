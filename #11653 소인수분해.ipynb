{
 "cells": [
  {
   "cell_type": "code",
   "execution_count": 19,
   "id": "31b04e3c",
   "metadata": {},
   "outputs": [
    {
     "name": "stdout",
     "output_type": "stream",
     "text": [
      "72\n",
      "[1, 2, 3, 4, 6, 8, 9, 12, 18, 24, 36]\n"
     ]
    }
   ],
   "source": [
    "#####------이건 실패지만 소수 사용 시에 쓸 수 있을거 같아서 남겨둠---###\n",
    "\n",
    "N = int(input())\n",
    "num_list = []\n",
    "\n",
    "for i in range(1, N//2+1):\n",
    "    if N%i ==0 :\n",
    "        num_list.append(i)\n",
    "        for j in range(2*i, N//2+1, 1)\n",
    "            num_list[]\n",
    "    else:\n",
    "        continue;\n",
    "print(num_list)"
   ]
  },
  {
   "cell_type": "code",
   "execution_count": 56,
   "id": "3fa6105a",
   "metadata": {},
   "outputs": [
    {
     "name": "stdout",
     "output_type": "stream",
     "text": [
      "72\n",
      "2\n",
      "2\n",
      "2\n",
      "3\n",
      "3\n"
     ]
    }
   ],
   "source": [
    "##---이건 정답---##\n",
    "N = int(input())\n",
    "\n",
    "for i in range (2, N+1):\n",
    "    for j in range(2,N+1):\n",
    "        if N ==1:\n",
    "            print()\n",
    "        elif N%j==0:\n",
    "            print(j)\n",
    "            N=N//j\n",
    "            break;\n"
   ]
  },
  {
   "cell_type": "code",
   "execution_count": null,
   "id": "a984c58c",
   "metadata": {},
   "outputs": [],
   "source": []
  }
 ],
 "metadata": {
  "kernelspec": {
   "display_name": "Python 3 (ipykernel)",
   "language": "python",
   "name": "python3"
  },
  "language_info": {
   "codemirror_mode": {
    "name": "ipython",
    "version": 3
   },
   "file_extension": ".py",
   "mimetype": "text/x-python",
   "name": "python",
   "nbconvert_exporter": "python",
   "pygments_lexer": "ipython3",
   "version": "3.11.4"
  }
 },
 "nbformat": 4,
 "nbformat_minor": 5
}
