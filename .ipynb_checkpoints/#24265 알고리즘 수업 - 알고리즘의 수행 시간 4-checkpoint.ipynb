{
 "cells": [
  {
   "cell_type": "code",
   "execution_count": null,
   "id": "538595ee",
   "metadata": {},
   "outputs": [],
   "source": [
    "MenOfPassion(A[], n) {\n",
    "    sum <- 0;\n",
    "    for i <- 1 to n-1\n",
    "        for j <- i + 1 to n\n",
    "            sum <- sum + A[i] * A[j];\n",
    "    return sum;\n",
    "}\n",
    "\n",
    "## 실행 : ((n+1)*n)/2"
   ]
  },
  {
   "cell_type": "code",
   "execution_count": 7,
   "id": "1c9cc1f9",
   "metadata": {},
   "outputs": [
    {
     "name": "stdout",
     "output_type": "stream",
     "text": [
      "7\n",
      "21.0\n",
      "2\n"
     ]
    }
   ],
   "source": [
    "n = int(input())\n",
    "\n",
    "count = (n *(n-1))/2\n",
    "\n",
    "print(int(count))\n",
    "print(2)"
   ]
  },
  {
   "cell_type": "code",
   "execution_count": null,
   "id": "70be45ab",
   "metadata": {},
   "outputs": [],
   "source": []
  }
 ],
 "metadata": {
  "kernelspec": {
   "display_name": "Python 3 (ipykernel)",
   "language": "python",
   "name": "python3"
  },
  "language_info": {
   "codemirror_mode": {
    "name": "ipython",
    "version": 3
   },
   "file_extension": ".py",
   "mimetype": "text/x-python",
   "name": "python",
   "nbconvert_exporter": "python",
   "pygments_lexer": "ipython3",
   "version": "3.11.4"
  }
 },
 "nbformat": 4,
 "nbformat_minor": 5
}
