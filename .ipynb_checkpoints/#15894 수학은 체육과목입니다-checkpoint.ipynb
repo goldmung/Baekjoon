{
 "cells": [
  {
   "cell_type": "code",
   "execution_count": 2,
   "id": "4b595881",
   "metadata": {},
   "outputs": [
    {
     "name": "stdout",
     "output_type": "stream",
     "text": [
      "4\n",
      "16\n"
     ]
    }
   ],
   "source": [
    "N = int(input())\n",
    "\n",
    "print(N*4)"
   ]
  },
  {
   "cell_type": "code",
   "execution_count": 4,
   "id": "58e146e0",
   "metadata": {},
   "outputs": [],
   "source": [
    "#규칙 찾기\n",
    "# 1 -> 4\n",
    "# 2 -> 8\n",
    "# 3 -> 12\n",
    "# 4 -> N * 4"
   ]
  },
  {
   "cell_type": "code",
   "execution_count": null,
   "id": "09a13e8e",
   "metadata": {},
   "outputs": [],
   "source": []
  }
 ],
 "metadata": {
  "kernelspec": {
   "display_name": "Python 3 (ipykernel)",
   "language": "python",
   "name": "python3"
  },
  "language_info": {
   "codemirror_mode": {
    "name": "ipython",
    "version": 3
   },
   "file_extension": ".py",
   "mimetype": "text/x-python",
   "name": "python",
   "nbconvert_exporter": "python",
   "pygments_lexer": "ipython3",
   "version": "3.11.4"
  }
 },
 "nbformat": 4,
 "nbformat_minor": 5
}
