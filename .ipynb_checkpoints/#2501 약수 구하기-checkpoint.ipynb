{
 "cells": [
  {
   "cell_type": "code",
   "execution_count": 49,
   "id": "8f950026",
   "metadata": {},
   "outputs": [
    {
     "name": "stdout",
     "output_type": "stream",
     "text": [
      "6 3\n",
      "[1, 2, 3, 6]\n",
      "3\n"
     ]
    }
   ],
   "source": [
    "N, K = map(int, input().split())\n",
    "\n",
    "divisor = []\n",
    "for i in range(1, N+1):\n",
    "    if N%i ==0 :\n",
    "        divisor.append(i)\n",
    "\n",
    "if len(divisor) < K :\n",
    "    for i in range (K-(len(divisor))):\n",
    "        divisor.append(0)\n",
    "print(divisor)\n",
    "print(divisor[K-1])"
   ]
  },
  {
   "cell_type": "code",
   "execution_count": null,
   "id": "60522604",
   "metadata": {},
   "outputs": [],
   "source": []
  }
 ],
 "metadata": {
  "kernelspec": {
   "display_name": "Python 3 (ipykernel)",
   "language": "python",
   "name": "python3"
  },
  "language_info": {
   "codemirror_mode": {
    "name": "ipython",
    "version": 3
   },
   "file_extension": ".py",
   "mimetype": "text/x-python",
   "name": "python",
   "nbconvert_exporter": "python",
   "pygments_lexer": "ipython3",
   "version": "3.11.4"
  }
 },
 "nbformat": 4,
 "nbformat_minor": 5
}
