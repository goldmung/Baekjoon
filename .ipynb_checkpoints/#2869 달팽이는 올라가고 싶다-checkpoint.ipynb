{
 "cells": [
  {
   "cell_type": "code",
   "execution_count": 48,
   "id": "7e535beb",
   "metadata": {},
   "outputs": [
    {
     "name": "stdout",
     "output_type": "stream",
     "text": [
      "10 9 10\n",
      "1\n"
     ]
    }
   ],
   "source": [
    "A, B, V = map(int,input().split())\n",
    "\n",
    "total_height = 0\n",
    "cnt = 0\n",
    "\n",
    "while (1):\n",
    "    total_height = total_height + A\n",
    "    cnt= cnt+1\n",
    "    if total_height >= V :\n",
    "        print(cnt)\n",
    "        break;\n",
    "    else:\n",
    "        total_height = total_height - B"
   ]
  },
  {
   "cell_type": "code",
   "execution_count": 47,
   "id": "ee273ae8",
   "metadata": {},
   "outputs": [
    {
     "ename": "ValueError",
     "evalue": "not enough values to unpack (expected 3, got 0)",
     "output_type": "error",
     "traceback": [
      "\u001b[0;31m---------------------------------------------------------------------------\u001b[0m",
      "\u001b[0;31mValueError\u001b[0m                                Traceback (most recent call last)",
      "Cell \u001b[0;32mIn[47], line 2\u001b[0m\n\u001b[1;32m      1\u001b[0m \u001b[38;5;28;01mimport\u001b[39;00m \u001b[38;5;21;01msys\u001b[39;00m\n\u001b[0;32m----> 2\u001b[0m A, B, V \u001b[38;5;241m=\u001b[39m \u001b[38;5;28mmap\u001b[39m(\u001b[38;5;28mint\u001b[39m,sys\u001b[38;5;241m.\u001b[39mstdin\u001b[38;5;241m.\u001b[39mreadline()\u001b[38;5;241m.\u001b[39msplit())\n\u001b[1;32m      4\u001b[0m total_height \u001b[38;5;241m=\u001b[39m \u001b[38;5;241m0\u001b[39m\n\u001b[1;32m      5\u001b[0m cnt \u001b[38;5;241m=\u001b[39m \u001b[38;5;241m0\u001b[39m\n",
      "\u001b[0;31mValueError\u001b[0m: not enough values to unpack (expected 3, got 0)"
     ]
    }
   ],
   "source": [
    "# sys.stdin.readline을 이용해 입력값의 시간 단축(jupyter에서 지원하지 않는 형식이라 현재 에러 발생)\n",
    "import sys\n",
    "A, B, V = map(int,sys.stdin.readline().split())\n",
    "\n",
    "total_height = 0\n",
    "cnt = 0\n",
    "\n",
    "while total_height < V :\n",
    "    total_height = total_height +A\n",
    "    cnt = cnt+1\n",
    "    if total_height >= V:\n",
    "        print(cnt)\n",
    "        break;\n",
    "    else: \n",
    "        total_height = total_height - B"
   ]
  },
  {
   "cell_type": "markdown",
   "id": "463697a9",
   "metadata": {},
   "source": [
    "#  정답 \n",
    "시간초과 문제 해결한 식은 아래 코드"
   ]
  },
  {
   "cell_type": "code",
   "execution_count": null,
   "id": "8b3c3ce1",
   "metadata": {},
   "outputs": [],
   "source": [
    "A, B, V = map(int, input().split())\n",
    "\n",
    "if (V-A)%(A-B)==0 :\n",
    "    print(int((V-A)/(A-B)+1))\n",
    "else:\n",
    "    print(int((V-A)/(A-B)+2))"
   ]
  }
 ],
 "metadata": {
  "kernelspec": {
   "display_name": "Python 3 (ipykernel)",
   "language": "python",
   "name": "python3"
  },
  "language_info": {
   "codemirror_mode": {
    "name": "ipython",
    "version": 3
   },
   "file_extension": ".py",
   "mimetype": "text/x-python",
   "name": "python",
   "nbconvert_exporter": "python",
   "pygments_lexer": "ipython3",
   "version": "3.11.4"
  }
 },
 "nbformat": 4,
 "nbformat_minor": 5
}
