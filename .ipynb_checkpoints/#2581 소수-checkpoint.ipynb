{
 "cells": [
  {
   "cell_type": "code",
   "execution_count": 29,
   "id": "a1f01b9d",
   "metadata": {},
   "outputs": [],
   "source": [
    "###에라토스테네스의 체"
   ]
  },
  {
   "cell_type": "code",
   "execution_count": 44,
   "id": "e09cc941",
   "metadata": {},
   "outputs": [
    {
     "name": "stdout",
     "output_type": "stream",
     "text": [
      "60\n",
      "100\n",
      "일반 :  [60, 61, 62, 63, 64, 65, 66, 67, 68, 69, 70, 71, 72, 73, 74, 75, 76, 77, 78, 79, 80, 81, 82, 83, 84, 85, 86, 87, 88, 89, 90, 91, 92, 93, 94, 95, 96, 97, 98, 99, 100]\n",
      "소수:  [61, 67, 71, 73, 79, 83, 89, 97]\n",
      "전체 합: 620\n",
      "최솟값: 61\n"
     ]
    }
   ],
   "source": [
    "M = int(input())\n",
    "N = int(input())\n",
    "\n",
    "num_list = []\n",
    "\n",
    "for i in range (M, N+1):\n",
    "    num_list.append(i)\n",
    "\n",
    "if 1 in num_list:    \n",
    "    num_list.remove(1)\n",
    "    \n",
    "print(\"일반 : \", num_list)\n",
    "\n",
    "for i in range(2, N+1):\n",
    "    for j in range (2*i, N+1, i):\n",
    "        if j in num_list:\n",
    "            num_list.remove(j)\n",
    "        else:\n",
    "            continue;\n",
    "\n",
    "print(\"소수: \", num_list)\n",
    "            \n",
    "if len(num_list)== 0 :\n",
    "    print(-1)\n",
    "else:\n",
    "    print(\"전체 합:\", sum(num_list))\n",
    "    print(\"최솟값:\", min(num_list))\n"
   ]
  },
  {
   "cell_type": "code",
   "execution_count": null,
   "id": "0288690a",
   "metadata": {},
   "outputs": [],
   "source": [
    "##최종 코드"
   ]
  },
  {
   "cell_type": "code",
   "execution_count": 43,
   "id": "f0761e7a",
   "metadata": {},
   "outputs": [
    {
     "name": "stdout",
     "output_type": "stream",
     "text": [
      "64\n",
      "65\n",
      "-1\n"
     ]
    }
   ],
   "source": [
    "M = int(input())\n",
    "N = int(input())\n",
    "\n",
    "num_list = []\n",
    "\n",
    "for i in range (M, N+1):\n",
    "    num_list.append(i)\n",
    "\n",
    "if 1 in num_list:    \n",
    "    num_list.remove(1)\n",
    "\n",
    "for i in range(2, N+1):\n",
    "    for j in range (2*i, N+1, i):\n",
    "        if j in num_list:\n",
    "            num_list.remove(j)\n",
    "        else:\n",
    "            continue;\n",
    "            \n",
    "if len(num_list)== 0 :\n",
    "    print(-1)\n",
    "else:\n",
    "    print(sum(num_list))\n",
    "    print(min(num_list))"
   ]
  },
  {
   "cell_type": "code",
   "execution_count": null,
   "id": "f1bfaaa3",
   "metadata": {},
   "outputs": [],
   "source": []
  }
 ],
 "metadata": {
  "kernelspec": {
   "display_name": "Python 3 (ipykernel)",
   "language": "python",
   "name": "python3"
  },
  "language_info": {
   "codemirror_mode": {
    "name": "ipython",
    "version": 3
   },
   "file_extension": ".py",
   "mimetype": "text/x-python",
   "name": "python",
   "nbconvert_exporter": "python",
   "pygments_lexer": "ipython3",
   "version": "3.11.4"
  }
 },
 "nbformat": 4,
 "nbformat_minor": 5
}
