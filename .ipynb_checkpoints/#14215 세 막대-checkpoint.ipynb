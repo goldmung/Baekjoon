{
 "cells": [
  {
   "cell_type": "code",
   "execution_count": 24,
   "id": "c269c140",
   "metadata": {},
   "outputs": [
    {
     "name": "stdout",
     "output_type": "stream",
     "text": [
      "41 64 16\n",
      "[16, 41, 64]\n",
      "113\n"
     ]
    }
   ],
   "source": [
    "#길이 입력\n",
    "bar_list = list(map(int,input().split()))\n",
    "\n",
    "#내림차순으로 리스트 정력\n",
    "bar_list.sort()\n",
    "#print(bar_list)\n",
    "\n",
    "#두 변의 길이 합 > 가장 큰 값이 되도록 구성\n",
    "if bar_list[2] >= bar_list[0] + bar_list[1]:\n",
    "    bar_list[2] = bar_list[0] + bar_list[1] -1\n",
    "\n",
    "# 이전 데이터가 남아 sum()함수를 예약어로 인식하기 때문에 한번 삭제해 중복제거 \n",
    "#del sum\n",
    "\n",
    "#삼각형 길이 합계\n",
    "print(sum(bar_list))"
   ]
  }
 ],
 "metadata": {
  "kernelspec": {
   "display_name": "Python 3 (ipykernel)",
   "language": "python",
   "name": "python3"
  },
  "language_info": {
   "codemirror_mode": {
    "name": "ipython",
    "version": 3
   },
   "file_extension": ".py",
   "mimetype": "text/x-python",
   "name": "python",
   "nbconvert_exporter": "python",
   "pygments_lexer": "ipython3",
   "version": "3.11.4"
  }
 },
 "nbformat": 4,
 "nbformat_minor": 5
}
