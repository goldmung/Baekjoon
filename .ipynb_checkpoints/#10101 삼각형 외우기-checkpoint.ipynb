{
 "cells": [
  {
   "cell_type": "code",
   "execution_count": 7,
   "id": "f746e731",
   "metadata": {},
   "outputs": [
    {
     "name": "stdout",
     "output_type": "stream",
     "text": [
      "60\n",
      "70\n",
      "50\n",
      "Scalene\n"
     ]
    }
   ],
   "source": [
    "x = int(input())\n",
    "y = int(input())\n",
    "z = int(input())\n",
    "\n",
    "if x==y==z==60:\n",
    "    print(\"Equilateral\")\n",
    "elif x+y+z== 180:\n",
    "    if x==y or y==z or z==x :\n",
    "        print(\"Isosceles\")\n",
    "    elif x!=y and y!=z and z!=x :\n",
    "        print(\"Scalene\")\n",
    "else:\n",
    "    print(\"Error\")"
   ]
  },
  {
   "cell_type": "code",
   "execution_count": null,
   "id": "857bb249",
   "metadata": {},
   "outputs": [],
   "source": []
  }
 ],
 "metadata": {
  "kernelspec": {
   "display_name": "Python 3 (ipykernel)",
   "language": "python",
   "name": "python3"
  },
  "language_info": {
   "codemirror_mode": {
    "name": "ipython",
    "version": 3
   },
   "file_extension": ".py",
   "mimetype": "text/x-python",
   "name": "python",
   "nbconvert_exporter": "python",
   "pygments_lexer": "ipython3",
   "version": "3.11.4"
  }
 },
 "nbformat": 4,
 "nbformat_minor": 5
}
