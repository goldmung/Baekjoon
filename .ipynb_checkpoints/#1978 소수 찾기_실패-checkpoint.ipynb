{
 "cells": [
  {
   "cell_type": "code",
   "execution_count": 47,
   "id": "f6e4327c",
   "metadata": {},
   "outputs": [
    {
     "name": "stdout",
     "output_type": "stream",
     "text": [
      "4\n",
      "1 3 5 7\n",
      "[1, 3, 5, 7]\n",
      "1\n",
      "0\n",
      "3\n",
      "1\n",
      "2\n",
      "1\n",
      "5\n",
      "1\n",
      "2\n",
      "3\n",
      "4\n",
      "2\n",
      "7\n",
      "1\n",
      "2\n",
      "3\n",
      "4\n",
      "5\n",
      "6\n",
      "1\n",
      "1\n"
     ]
    }
   ],
   "source": [
    "num = int(input())\n",
    "num_list = list(map(int, input().split()))\n",
    "print(num_list)\n",
    "count = 0\n",
    "result =0\n",
    "\n",
    "for i in num_list:\n",
    "    print(i)\n",
    "    for j in range (1, i):\n",
    "        print(j)\n",
    "        if i % j == 0 :\n",
    "            count = count +1\n",
    "        else: \n",
    "            continue;\n",
    "    print(count)\n",
    "    if count == 2 :\n",
    "        result = result + 1\n",
    "    else:\n",
    "        continue;\n",
    "    count = 0\n",
    "print(result)"
   ]
  },
  {
   "cell_type": "code",
   "execution_count": null,
   "id": "a65ba059",
   "metadata": {},
   "outputs": [],
   "source": []
  }
 ],
 "metadata": {
  "kernelspec": {
   "display_name": "Python 3 (ipykernel)",
   "language": "python",
   "name": "python3"
  },
  "language_info": {
   "codemirror_mode": {
    "name": "ipython",
    "version": 3
   },
   "file_extension": ".py",
   "mimetype": "text/x-python",
   "name": "python",
   "nbconvert_exporter": "python",
   "pygments_lexer": "ipython3",
   "version": "3.11.4"
  }
 },
 "nbformat": 4,
 "nbformat_minor": 5
}
