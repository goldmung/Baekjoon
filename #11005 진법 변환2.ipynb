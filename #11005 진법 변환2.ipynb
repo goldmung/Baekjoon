{
 "cells": [
  {
   "cell_type": "code",
   "execution_count": null,
   "id": "b617fb3f",
   "metadata": {
    "scrolled": true
   },
   "outputs": [],
   "source": [
    "N, B = map(int, input().split())\n",
    "\n",
    "def convert_num (N,B):\n",
    "    digits = (\"0\",\"1\",\"2\",\"3\", \"4\", \"5\", \"6\", \"7\", \"8\", \"9\",\n",
    "             \"A\", \"B\", \"C\", \"D\", \"E\", \"F\", \"G\", \"H\", \"I\", \"J\", \n",
    "             \"K\", \"L\", \"M\", \"N\", \"O\", \"P\", \"Q\",\"R\", \"S\", \"T\", \n",
    "             \"U\", \"V\", \"W\", \"X\", \"Y\", \"Z\")\n",
    "    result = \"\"\n",
    "    n,r = divmod(N,B)\n",
    "    if n==0:\n",
    "        return digits[r]\n",
    "    else:\n",
    "        result = digits[r] + result\n",
    "        return convert_num(n,B)+result\n",
    "    \n",
    "print(convert_num(N,B))"
   ]
  },
  {
   "cell_type": "code",
   "execution_count": null,
   "id": "7f9033c4",
   "metadata": {},
   "outputs": [],
   "source": [
    "print(\"Hello Mong!\")"
   ]
  },
  {
   "cell_type": "code",
   "execution_count": 1,
   "id": "4a0dab6e",
   "metadata": {},
   "outputs": [
    {
     "name": "stdout",
     "output_type": "stream",
     "text": [
      "60466175 36\n",
      "ZZZZZ\n"
     ]
    }
   ],
   "source": [
    "import string\n",
    "\n",
    "N, B = map(int, input().split())\n",
    "\n",
    "def convert_num (N,B):\n",
    "    digits = string.digits + string.ascii_uppercase\n",
    "    result = \"\"\n",
    "    n,r = divmod(N,B)\n",
    "    if n==0:\n",
    "        return digits[r]\n",
    "    else:\n",
    "        result = digits[r] + result\n",
    "        return convert_num(n,B)+result\n",
    "    \n",
    "print(convert_num(N,B))"
   ]
  }
 ],
 "metadata": {
  "kernelspec": {
   "display_name": "Python 3 (ipykernel)",
   "language": "python",
   "name": "python3"
  },
  "language_info": {
   "codemirror_mode": {
    "name": "ipython",
    "version": 3
   },
   "file_extension": ".py",
   "mimetype": "text/x-python",
   "name": "python",
   "nbconvert_exporter": "python",
   "pygments_lexer": "ipython3",
   "version": "3.11.4"
  }
 },
 "nbformat": 4,
 "nbformat_minor": 5
}
