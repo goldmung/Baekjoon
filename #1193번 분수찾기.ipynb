{
 "cells": [
  {
   "cell_type": "code",
   "execution_count": 1,
   "id": "2287f203",
   "metadata": {},
   "outputs": [
    {
     "ename": "SyntaxError",
     "evalue": "invalid syntax (2483717118.py, line 1)",
     "output_type": "error",
     "traceback": [
      "\u001b[0;36m  Cell \u001b[0;32mIn[1], line 1\u001b[0;36m\u001b[0m\n\u001b[0;31m    1 -> 1/1\u001b[0m\n\u001b[0m      ^\u001b[0m\n\u001b[0;31mSyntaxError\u001b[0m\u001b[0;31m:\u001b[0m invalid syntax\n"
     ]
    }
   ],
   "source": [
    "1 -> 1/1\n",
    "2 -> 1/2, 2/1\n",
    "3 -> 3/1, 2/2, 1/3\n",
    "4 -> 1/4, 2/3, 3/2, 4/1\n",
    "5 -> 5/1, 4/2, 3/3, 4/2, 5/1\n",
    "6 -> 1/6, 2/5, 3/4, 4/3, 5/2, 6/1"
   ]
  },
  {
   "cell_type": "code",
   "execution_count": 2,
   "id": "5ad14aab",
   "metadata": {},
   "outputs": [
    {
     "name": "stdout",
     "output_type": "stream",
     "text": [
      "13\n",
      "start_sum 1 start_cnt 1\n",
      "start_sum 3 start_cnt 2\n",
      "start_sum 6 start_cnt 3\n",
      "start_sum 10 start_cnt 4\n",
      "start_sum 15 start_cnt 5\n",
      "3/3\n"
     ]
    }
   ],
   "source": [
    "from fractions import Fraction\n",
    "\n",
    "num = int(input())\n",
    "cnt = 1\n",
    "sum_cnt = 1\n",
    "\n",
    "while cnt > 0:\n",
    "    print(\"start_sum\", sum_cnt, \"start_cnt\", cnt)\n",
    "    if num <= sum_cnt :\n",
    "        if cnt%2==0:\n",
    "            temp = num-(sum_cnt-cnt)\n",
    "            result = Fraction(temp, cnt+1-temp,_normalize=False)\n",
    "        else: \n",
    "            temp = num-(sum_cnt-cnt)\n",
    "            result = Fraction(cnt+1-temp,temp,_normalize=False)\n",
    "        print(f\"{result.numerator}/{result.denominator}\")\n",
    "        break;\n",
    "    else:\n",
    "        cnt = cnt+1\n",
    "        sum_cnt = sum_cnt+cnt"
   ]
  },
  {
   "cell_type": "code",
   "execution_count": null,
   "id": "b6a9dc9d",
   "metadata": {},
   "outputs": [],
   "source": []
  }
 ],
 "metadata": {
  "kernelspec": {
   "display_name": "Python 3 (ipykernel)",
   "language": "python",
   "name": "python3"
  },
  "language_info": {
   "codemirror_mode": {
    "name": "ipython",
    "version": 3
   },
   "file_extension": ".py",
   "mimetype": "text/x-python",
   "name": "python",
   "nbconvert_exporter": "python",
   "pygments_lexer": "ipython3",
   "version": "3.11.4"
  }
 },
 "nbformat": 4,
 "nbformat_minor": 5
}
