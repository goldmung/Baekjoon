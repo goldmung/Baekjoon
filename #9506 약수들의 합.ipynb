{
 "cells": [
  {
   "cell_type": "code",
   "execution_count": 30,
   "id": "07beff5d",
   "metadata": {},
   "outputs": [
    {
     "name": "stdout",
     "output_type": "stream",
     "text": [
      "6\n",
      "12\n",
      "28\n",
      "-1\n",
      "[6, 12, 28]\n",
      "6\n",
      "6 = 1 + 2 + 3\n",
      "12\n",
      "12 is NOT perfect.\n",
      "28\n",
      "28 = 1 + 2 + 4 + 7 + 14\n"
     ]
    }
   ],
   "source": [
    "num_list = []\n",
    "divisor_list = []\n",
    "sum = 0\n",
    "\n",
    "while True:\n",
    "    num = int(input())\n",
    "    if num == -1:\n",
    "        break;\n",
    "    num_list.append(num)\n",
    "print(num_list)\n",
    "\n",
    "for n in num_list :\n",
    "    print(n)\n",
    "    for i in range (1,n):\n",
    "        if n % i ==0 :\n",
    "            divisor_list.append(i)\n",
    "            sum= sum + i\n",
    "        else:\n",
    "            continue;\n",
    "    if sum == n :\n",
    "        print(f'{n} = ', end='')\n",
    "        for i in range (len(divisor_list)-1):\n",
    "            print(divisor_list[i], end = ' + ')\n",
    "        print(divisor_list[-1])\n",
    "    else:\n",
    "        print(f'{n} is NOT perfect.')\n",
    "    divisor_list = []\n",
    "    sum = 0"
   ]
  },
  {
   "cell_type": "code",
   "execution_count": 31,
   "id": "7696c99d",
   "metadata": {},
   "outputs": [
    {
     "name": "stdout",
     "output_type": "stream",
     "text": [
      "6\n",
      "12\n",
      "28\n",
      "-1\n",
      "6 = 1 + 2 + 3\n",
      "12 is NOT perfect.\n",
      "28 = 1 + 2 + 4 + 7 + 14\n"
     ]
    }
   ],
   "source": [
    "num_list = []\n",
    "divisor_list = []\n",
    "sum = 0\n",
    "\n",
    "while True:\n",
    "    num = int(input())\n",
    "    if num == -1:\n",
    "        break;\n",
    "    num_list.append(num)\n",
    "\n",
    "for n in num_list :\n",
    "    for i in range (1,n):\n",
    "        if n % i ==0 :\n",
    "            divisor_list.append(i)\n",
    "            sum= sum + i\n",
    "        else:\n",
    "            continue;\n",
    "    if sum == n :\n",
    "        print(f'{n} = ', end='')\n",
    "        for i in range (len(divisor_list)-1):\n",
    "            print(divisor_list[i], end = ' + ')\n",
    "        print(divisor_list[-1])\n",
    "    else:\n",
    "        print(f'{n} is NOT perfect.')\n",
    "    divisor_list = []\n",
    "    sum = 0"
   ]
  },
  {
   "cell_type": "code",
   "execution_count": null,
   "id": "0f21fe10",
   "metadata": {},
   "outputs": [],
   "source": []
  }
 ],
 "metadata": {
  "kernelspec": {
   "display_name": "Python 3 (ipykernel)",
   "language": "python",
   "name": "python3"
  },
  "language_info": {
   "codemirror_mode": {
    "name": "ipython",
    "version": 3
   },
   "file_extension": ".py",
   "mimetype": "text/x-python",
   "name": "python",
   "nbconvert_exporter": "python",
   "pygments_lexer": "ipython3",
   "version": "3.11.4"
  }
 },
 "nbformat": 4,
 "nbformat_minor": 5
}
