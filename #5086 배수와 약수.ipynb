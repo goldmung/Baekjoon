{
 "cells": [
  {
   "cell_type": "code",
   "execution_count": 55,
   "id": "54190580",
   "metadata": {},
   "outputs": [
    {
     "name": "stdout",
     "output_type": "stream",
     "text": [
      "8 16\n",
      "32 4\n",
      "17 5\n",
      "0 0\n",
      "factor\n",
      "multiple\n",
      "neither\n"
     ]
    }
   ],
   "source": [
    "num_list=[]\n",
    "\n",
    "cnt = 0\n",
    "\n",
    "while (1):\n",
    "    num_list.append(list(map(int, input().split())))\n",
    "    if num_list[cnt]==[0,0]:\n",
    "        break;\n",
    "    cnt = cnt +1\n",
    "\n",
    "for i in range (len(num_list)-1) :\n",
    "    if num_list[i][1] % num_list[i][0] == 0:\n",
    "        print(\"factor\")\n",
    "    elif num_list[i][0] % num_list[i][1] ==0 :\n",
    "        print(\"multiple\")\n",
    "    else: \n",
    "        print(\"neither\")"
   ]
  },
  {
   "cell_type": "code",
   "execution_count": null,
   "id": "a8c720ad",
   "metadata": {},
   "outputs": [],
   "source": []
  }
 ],
 "metadata": {
  "kernelspec": {
   "display_name": "Python 3 (ipykernel)",
   "language": "python",
   "name": "python3"
  },
  "language_info": {
   "codemirror_mode": {
    "name": "ipython",
    "version": 3
   },
   "file_extension": ".py",
   "mimetype": "text/x-python",
   "name": "python",
   "nbconvert_exporter": "python",
   "pygments_lexer": "ipython3",
   "version": "3.11.4"
  }
 },
 "nbformat": 4,
 "nbformat_minor": 5
}
