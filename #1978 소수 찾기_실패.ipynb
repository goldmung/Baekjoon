{
 "cells": [
  {
   "cell_type": "code",
   "execution_count": 26,
   "id": "f6e4327c",
   "metadata": {},
   "outputs": [
    {
     "name": "stdout",
     "output_type": "stream",
     "text": [
      "4\n",
      "1 5 8 17\n",
      "[1, 5, 8, 17]\n",
      "1 1\n",
      "count 수 :  1\n",
      "5 1\n",
      "count 수 :  1\n",
      "5 5\n",
      "count 수 :  2\n",
      "8 1\n",
      "count 수 :  1\n",
      "8 2\n",
      "count 수 :  2\n",
      "8 4\n",
      "count 수 :  3\n",
      "8 8\n",
      "count 수 :  4\n",
      "17 1\n",
      "count 수 :  1\n",
      "17 17\n",
      "count 수 :  2\n",
      "reuslt 값: 3\n"
     ]
    }
   ],
   "source": [
    "num = int(input())\n",
    "num_list = list(map(int, input().split()))\n",
    "print(num_list)\n",
    "count = 0\n",
    "result = []\n",
    "\n",
    "for i in num_list:\n",
    "    for j in range (1, i+1):\n",
    "        if i % j == 0 :\n",
    "            print(i, j)\n",
    "            count = count +1;\n",
    "            print(\"count 수 : \", count)\n",
    "            if i==j:\n",
    "                result.append(count)\n",
    "                count = 0\n",
    "        else:\n",
    "            continue;\n",
    "\n",
    "\n",
    "print(\"reuslt 값:\", result.count(1) + result.count(2))"
   ]
  },
  {
   "cell_type": "code",
   "execution_count": 8,
   "id": "a65ba059",
   "metadata": {},
   "outputs": [
    {
     "name": "stdout",
     "output_type": "stream",
     "text": [
      "4\n",
      "3 3 5\n",
      "2\n"
     ]
    }
   ],
   "source": [
    "num = int(input())\n",
    "num_list = set(list(map(int, input().split())))\n",
    "\n",
    "count = 0\n",
    "result = []\n",
    "\n",
    "for i in num_list:\n",
    "    for j in range (1, i+1):\n",
    "        if i % j == 0 :\n",
    "            count = count +1;\n",
    "            if i==j:\n",
    "                result.append(count)\n",
    "                count = 0\n",
    "        else:\n",
    "            continue;\n",
    "\n",
    "print(result.count(1) + result.count(2))"
   ]
  },
  {
   "cell_type": "code",
   "execution_count": null,
   "id": "55dc066b",
   "metadata": {},
   "outputs": [],
   "source": []
  }
 ],
 "metadata": {
  "kernelspec": {
   "display_name": "Python 3 (ipykernel)",
   "language": "python",
   "name": "python3"
  },
  "language_info": {
   "codemirror_mode": {
    "name": "ipython",
    "version": 3
   },
   "file_extension": ".py",
   "mimetype": "text/x-python",
   "name": "python",
   "nbconvert_exporter": "python",
   "pygments_lexer": "ipython3",
   "version": "3.11.4"
  }
 },
 "nbformat": 4,
 "nbformat_minor": 5
}
