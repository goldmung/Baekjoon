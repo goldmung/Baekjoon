{
 "cells": [
  {
   "cell_type": "code",
   "execution_count": 6,
   "id": "fb73b3bc",
   "metadata": {},
   "outputs": [
    {
     "name": "stdout",
     "output_type": "stream",
     "text": [
      "4\n",
      "2 1\n",
      "3 2\n",
      "5 2\n",
      "3 4\n",
      "[2, 3, 5, 3]\n",
      "[1, 2, 2, 4]\n",
      "9\n"
     ]
    }
   ],
   "source": [
    "N = int(input())\n",
    "\n",
    "x_num = []\n",
    "y_num = []\n",
    "\n",
    "for i in range (N) :\n",
    "    x , y = map(int,input().split())\n",
    "    x_num.append(x)\n",
    "    y_num.append(y)\n",
    "\n",
    "# print(x_num)\n",
    "# print(y_num)\n",
    "\n",
    "x_len = max(x_num) - min(x_num)\n",
    "y_len = max(y_num) - min(y_num)\n",
    "\n",
    "print(x_len * y_len)"
   ]
  },
  {
   "cell_type": "code",
   "execution_count": null,
   "id": "3edf2679",
   "metadata": {},
   "outputs": [],
   "source": []
  }
 ],
 "metadata": {
  "kernelspec": {
   "display_name": "Python 3 (ipykernel)",
   "language": "python",
   "name": "python3"
  },
  "language_info": {
   "codemirror_mode": {
    "name": "ipython",
    "version": 3
   },
   "file_extension": ".py",
   "mimetype": "text/x-python",
   "name": "python",
   "nbconvert_exporter": "python",
   "pygments_lexer": "ipython3",
   "version": "3.11.4"
  }
 },
 "nbformat": 4,
 "nbformat_minor": 5
}
