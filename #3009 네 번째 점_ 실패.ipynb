{
 "cells": [
  {
   "cell_type": "code",
   "execution_count": 8,
   "id": "944beae5",
   "metadata": {
    "scrolled": true
   },
   "outputs": [
    {
     "name": "stdout",
     "output_type": "stream",
     "text": [
      "30 20\n",
      "10 10\n",
      "10 20\n",
      "30 10\n"
     ]
    }
   ],
   "source": [
    "x_list = []\n",
    "y_list = []\n",
    "\n",
    "for i in range(3):\n",
    "    x, y = map(int, input().split())\n",
    "    x_list.append(x)\n",
    "    y_list.append(y)\n",
    "x_list.sort()\n",
    "y_list.sort()\n",
    "# print(x_list)\n",
    "# print(y_list)\n",
    "\n",
    "new_spot=[]\n",
    "\n",
    "if x_list[0]!=x_list[1]:\n",
    "    new_spot.append(x_list[0])\n",
    "elif x_list[1]!=x_list[2]:\n",
    "    new_spot.append(x_list[2])\n",
    "\n",
    "if y_list[0]!=y_list[1]:\n",
    "    new_spot.append(y_list[0])\n",
    "elif y_list[1]!=y_list[2]:\n",
    "    new_spot.append(y_list[2])\n",
    "\n",
    "print(new_spot[0], new_spot[1])"
   ]
  },
  {
   "cell_type": "code",
   "execution_count": null,
   "id": "7f9a0153",
   "metadata": {},
   "outputs": [],
   "source": []
  },
  {
   "cell_type": "code",
   "execution_count": null,
   "id": "aa4f3b49",
   "metadata": {},
   "outputs": [],
   "source": []
  }
 ],
 "metadata": {
  "kernelspec": {
   "display_name": "Python 3 (ipykernel)",
   "language": "python",
   "name": "python3"
  },
  "language_info": {
   "codemirror_mode": {
    "name": "ipython",
    "version": 3
   },
   "file_extension": ".py",
   "mimetype": "text/x-python",
   "name": "python",
   "nbconvert_exporter": "python",
   "pygments_lexer": "ipython3",
   "version": "3.11.4"
  }
 },
 "nbformat": 4,
 "nbformat_minor": 5
}
