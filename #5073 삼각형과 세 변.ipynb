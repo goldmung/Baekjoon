{
 "cells": [
  {
   "cell_type": "code",
   "execution_count": 14,
   "id": "e6fbdee1",
   "metadata": {},
   "outputs": [
    {
     "name": "stdout",
     "output_type": "stream",
     "text": [
      "7 7 7\n",
      "6 5 4\n",
      "3 2 5\n",
      "6 2 6\n",
      "0 0 0\n",
      "Equilateral\n",
      "Scalene\n",
      "Invalid\n",
      "Isosceles\n"
     ]
    }
   ],
   "source": [
    "x_num = []\n",
    "y_num = []\n",
    "z_num = []\n",
    "\n",
    "while True:\n",
    "    x,y,z = map(int,input().split())\n",
    "    if x==y==z==0 :\n",
    "        break;\n",
    "    else:\n",
    "        x_num.append(x)\n",
    "        y_num.append(y)\n",
    "        z_num.append(z)\n",
    "\n",
    "for i in range(len(x_num)):\n",
    "    num_list=[x_num[i], y_num[i], z_num[i]]\n",
    "    num_list.sort()\n",
    "    \n",
    "    if num_list[2]< num_list[0]+num_list[1]:\n",
    "        if x_num[i]==y_num[i]==z_num[i]:\n",
    "            print(\"Equilateral\")\n",
    "        elif x_num[i]==y_num[i] or y_num[i]==z_num[i] or z_num[i]==x_num[i]:\n",
    "            print(\"Isosceles\")\n",
    "        elif x_num[i]!=y_num[i] and y_num[i]!=z_num[i] and z_num[i]!=x_num[i]:\n",
    "            print(\"Scalene\")\n",
    "    else:\n",
    "        print(\"Invalid\")\n"
   ]
  },
  {
   "cell_type": "code",
   "execution_count": 15,
   "id": "3f03fcc6",
   "metadata": {},
   "outputs": [
    {
     "name": "stdout",
     "output_type": "stream",
     "text": [
      "7 7 7\n",
      "6 5 4\n",
      "3 2 5\n",
      "6 2 6\n",
      "0 0 0\n",
      "Equilateral\n",
      "Scalene\n",
      "Invalid\n",
      "Isosceles\n"
     ]
    }
   ],
   "source": [
    "x_num = []\n",
    "y_num = []\n",
    "z_num = []\n",
    "\n",
    "while True:\n",
    "    x,y,z = map(int,input().split())\n",
    "    if x==y==z==0 :\n",
    "        break;\n",
    "    else:\n",
    "        x_num.append(x)\n",
    "        y_num.append(y)\n",
    "        z_num.append(z)\n",
    "\n",
    "for i in range(len(x_num)):\n",
    "    num_list=[x_num[i], y_num[i], z_num[i]]\n",
    "    num_list.sort()\n",
    "    \n",
    "    if num_list[2]< num_list[0]+num_list[1]:\n",
    "        if num_list[0]==num_list[1]==num_list[2]:\n",
    "            print(\"Equilateral\")\n",
    "        elif num_list[0]==num_list[1] or num_list[1]==num_list[2] or num_list[2]==num_list[0]:\n",
    "            print(\"Isosceles\")\n",
    "        elif num_list[0]!=num_list[1] and num_list[1]!=num_list[2] and num_list[2]!=num_list[0]:\n",
    "            print(\"Scalene\")\n",
    "    else:\n",
    "        print(\"Invalid\")\n"
   ]
  },
  {
   "cell_type": "code",
   "execution_count": null,
   "id": "98e340af",
   "metadata": {},
   "outputs": [],
   "source": []
  }
 ],
 "metadata": {
  "kernelspec": {
   "display_name": "Python 3 (ipykernel)",
   "language": "python",
   "name": "python3"
  },
  "language_info": {
   "codemirror_mode": {
    "name": "ipython",
    "version": 3
   },
   "file_extension": ".py",
   "mimetype": "text/x-python",
   "name": "python",
   "nbconvert_exporter": "python",
   "pygments_lexer": "ipython3",
   "version": "3.11.4"
  }
 },
 "nbformat": 4,
 "nbformat_minor": 5
}
