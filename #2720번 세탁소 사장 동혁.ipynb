{
 "cells": [
  {
   "cell_type": "code",
   "execution_count": 6,
   "id": "c31703d1",
   "metadata": {},
   "outputs": [
    {
     "name": "stdout",
     "output_type": "stream",
     "text": [
      "3\n",
      "124\n",
      "4 2 0 4\n",
      "25\n",
      "1 0 0 0\n",
      "194\n",
      "7 1 1 4\n"
     ]
    }
   ],
   "source": [
    "T = int(input())\n",
    "\n",
    "quater = 25\n",
    "dime = 10\n",
    "nickel = 5\n",
    "penny = 1\n",
    "\n",
    "for i in range(T):\n",
    "    money = int(input())\n",
    "    q,r = divmod(money,quater)\n",
    "    temp = r \n",
    "    d,r = divmod(temp, dime)\n",
    "    temp = r\n",
    "    n,r = divmod(temp, nickel)\n",
    "    temp =r\n",
    "    p,r = divmod(temp, penny)\n",
    "\n",
    "    print(q, d, n, p)\n"
   ]
  },
  {
   "cell_type": "code",
   "execution_count": null,
   "id": "9ee8b3a9",
   "metadata": {},
   "outputs": [],
   "source": []
  }
 ],
 "metadata": {
  "kernelspec": {
   "display_name": "Python 3 (ipykernel)",
   "language": "python",
   "name": "python3"
  },
  "language_info": {
   "codemirror_mode": {
    "name": "ipython",
    "version": 3
   },
   "file_extension": ".py",
   "mimetype": "text/x-python",
   "name": "python",
   "nbconvert_exporter": "python",
   "pygments_lexer": "ipython3",
   "version": "3.11.4"
  }
 },
 "nbformat": 4,
 "nbformat_minor": 5
}
