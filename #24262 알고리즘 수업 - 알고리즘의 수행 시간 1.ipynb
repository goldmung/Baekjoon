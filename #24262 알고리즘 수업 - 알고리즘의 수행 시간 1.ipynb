{
 "cells": [
  {
   "cell_type": "code",
   "execution_count": null,
   "id": "c2ebdd99",
   "metadata": {},
   "outputs": [],
   "source": [
    "# MenOfPassion(A[], n) {\n",
    "#     i = [n/2];\n",
    "#     return A[i]; ## 코드 1\n",
    "# }"
   ]
  },
  {
   "cell_type": "code",
   "execution_count": 1,
   "id": "37a62cfe",
   "metadata": {},
   "outputs": [
    {
     "name": "stdout",
     "output_type": "stream",
     "text": [
      "5\n",
      "1\n",
      "0\n"
     ]
    }
   ],
   "source": [
    "N = int(input())\n",
    "\n",
    "# MenOfPassion은 n의 값과 관계없이 코드 수행횟수는 1회\n",
    "print(1)\n",
    "# 다향식으로 표현했을 때 차수는 0으로 일정\n",
    "print(0)"
   ]
  }
 ],
 "metadata": {
  "kernelspec": {
   "display_name": "Python 3 (ipykernel)",
   "language": "python",
   "name": "python3"
  },
  "language_info": {
   "codemirror_mode": {
    "name": "ipython",
    "version": 3
   },
   "file_extension": ".py",
   "mimetype": "text/x-python",
   "name": "python",
   "nbconvert_exporter": "python",
   "pygments_lexer": "ipython3",
   "version": "3.11.4"
  }
 },
 "nbformat": 4,
 "nbformat_minor": 5
}
